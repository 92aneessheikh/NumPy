{
  "cells": [
    {
      "cell_type": "code",
      "execution_count": 8,
      "metadata": {
        "colab": {
          "base_uri": "https://localhost:8080/"
        },
        "id": "33da96b1",
        "outputId": "bdc8d791-29a9-4211-e513-785d461d7198"
      },
      "outputs": [
        {
          "name": "stdout",
          "output_type": "stream",
          "text": [
            "Data type: int64\n",
            "[0 1 2 3 4 5]\n"
          ]
        }
      ],
      "source": [
        "# 1. Create a NumPy array 'arr' of integers from 0 to 5 and print its data type.\n",
        "\n",
        "#code >\n",
        "import numpy as np\n",
        "arr = np.arange(6)\n",
        "print('Data type:', arr.dtype)\n",
        "\n",
        "# example\n",
        "print(arr)"
      ]
    },
    {
      "cell_type": "code",
      "execution_count": null,
      "metadata": {
        "colab": {
          "base_uri": "https://localhost:8080/"
        },
        "id": "06ab8381",
        "outputId": "6830ef3c-8a79-43d1-b07c-41f8871e6954"
      },
      "outputs": [
        {
          "name": "stdout",
          "output_type": "stream",
          "text": [
            "Is data type float64? True\n",
            "[1.5 2.6 3.7]\n"
          ]
        }
      ],
      "source": [
        "# 2. Given a NumPy array 'arr', check if its data type is float64.\n",
        "# arr = np.array([1.5, 2.6, 3.7])\n",
        "\n",
        "#code >\n",
        "import numpy as np\n",
        "arr = np.array([1.5, 2.6, 3.7])\n",
        "print('Is data type float64?', arr.dtype == np.float64)\n",
        "\n",
        "#example >\n",
        "print(arr)"
      ]
    },
    {
      "cell_type": "code",
      "execution_count": 11,
      "metadata": {
        "colab": {
          "base_uri": "https://localhost:8080/"
        },
        "id": "c164cd70",
        "outputId": "d10d32dc-a8f2-455e-acef-d9d0fdd13f7f"
      },
      "outputs": [
        {
          "name": "stdout",
          "output_type": "stream",
          "text": [
            "Data type: complex128\n",
            "[2.+3.j 4.+5.j 6.+7.j]\n"
          ]
        }
      ],
      "source": [
        "# 3. Create a NumPy array 'arr' with a data type of complex128 containing three complex numbers.\n",
        "\n",
        "#code >\n",
        "import numpy as np\n",
        "arr = np.array([2+3j, 4+5j, 6+7j], dtype=np.complex128)\n",
        "print('Data type:', arr.dtype)\n",
        "\n",
        "#example >\n",
        "print(arr)"
      ]
    },
    {
      "cell_type": "code",
      "execution_count": 12,
      "metadata": {
        "colab": {
          "base_uri": "https://localhost:8080/"
        },
        "id": "bfa47f30",
        "outputId": "43614b00-6429-4f6a-8905-1c3d5052b198"
      },
      "outputs": [
        {
          "name": "stdout",
          "output_type": "stream",
          "text": [
            "Data type: float32\n",
            "[1. 2. 3. 4. 5.]\n"
          ]
        }
      ],
      "source": [
        "# 4. Convert an existing NumPy array 'arr' of integers to float32 data type.\n",
        "\n",
        "#code >\n",
        "import numpy as np\n",
        "arr = np.array([1, 2, 3, 4, 5])\n",
        "arr = arr.astype(np.float32)\n",
        "print('Data type:', arr.dtype)\n",
        "\n",
        "#example >\n",
        "print(arr)"
      ]
    },
    {
      "cell_type": "code",
      "execution_count": 13,
      "metadata": {
        "colab": {
          "base_uri": "https://localhost:8080/"
        },
        "id": "de9ab48a",
        "outputId": "90a0dd79-6297-49b5-a965-5e102d002c87"
      },
      "outputs": [
        {
          "name": "stdout",
          "output_type": "stream",
          "text": [
            "Converted dtype: float32\n",
            "[1.1234568 2.9876542]\n"
          ]
        }
      ],
      "source": [
        "# 5. Given a NumPy array 'arr' with float64 data type, convert it to float32 to reduce decimal precision.\n",
        "\n",
        "#code >\n",
        "arr = np.array([1.123456789, 2.987654321], dtype=np.float64)\n",
        "arr_float32 = arr.astype(np.float32)\n",
        "print('Converted dtype:', arr_float32.dtype)\n",
        "\n",
        "# example\n",
        "print(arr_float32)"
      ]
    },
    {
      "cell_type": "code",
      "execution_count": 14,
      "metadata": {
        "colab": {
          "base_uri": "https://localhost:8080/"
        },
        "id": "0f3bca82",
        "outputId": "201333d1-93e5-46f4-ab95-a670e105032b"
      },
      "outputs": [
        {
          "name": "stdout",
          "output_type": "stream",
          "text": [
            "((2, 2), 4, dtype('int64'))\n"
          ]
        }
      ],
      "source": [
        "# 6. Write a function array_attributes that takes a NumPy array as input and returns its shape, size, and data type.\n",
        "\n",
        "#code >\n",
        "def array_attributes(arr):\n",
        "    return arr.shape, arr.size, arr.dtype\n",
        "\n",
        "# example\n",
        "arr = np.array([[1, 2], [3, 4]])\n",
        "print(array_attributes(arr))"
      ]
    },
    {
      "cell_type": "code",
      "execution_count": 15,
      "metadata": {
        "colab": {
          "base_uri": "https://localhost:8080/"
        },
        "id": "9da01c41",
        "outputId": "6dac0871-a56f-41bd-e709-457535954431"
      },
      "outputs": [
        {
          "name": "stdout",
          "output_type": "stream",
          "text": [
            "2\n"
          ]
        }
      ],
      "source": [
        "# 7. Create a function array_dimension that takes a NumPy array as input and returns its dimensionality.\n",
        "\n",
        "#code >\n",
        "def array_dimension(arr):\n",
        "    return arr.ndim\n",
        "\n",
        "# example\n",
        "arr = np.array([[1, 2], [3, 4]])\n",
        "print(array_dimension(arr))"
      ]
    },
    {
      "cell_type": "code",
      "execution_count": 16,
      "metadata": {
        "colab": {
          "base_uri": "https://localhost:8080/"
        },
        "id": "08fe429a",
        "outputId": "48123c83-99e1-4b31-e66d-874e1d760f14"
      },
      "outputs": [
        {
          "name": "stdout",
          "output_type": "stream",
          "text": [
            "(4, 12)\n"
          ]
        }
      ],
      "source": [
        "# 8. Design a function item_size_info that takes a NumPy array as input and returns the item size and the total size in bytes.\n",
        "\n",
        "#code >\n",
        "def item_size_info(arr):\n",
        "    return arr.itemsize, arr.nbytes\n",
        "\n",
        "# example\n",
        "arr = np.array([1, 2, 3], dtype=np.int32)\n",
        "print(item_size_info(arr))"
      ]
    },
    {
      "cell_type": "code",
      "execution_count": 17,
      "metadata": {
        "colab": {
          "base_uri": "https://localhost:8080/"
        },
        "id": "e94134bb",
        "outputId": "95649d5b-558f-4e81-8e62-d4cf0a7f57ae"
      },
      "outputs": [
        {
          "name": "stdout",
          "output_type": "stream",
          "text": [
            "(8,)\n"
          ]
        }
      ],
      "source": [
        "# 9. Create a function array_strides that takes a NumPy array as input and returns the strides of the array.\n",
        "\n",
        "#code >\n",
        "def array_strides(arr):\n",
        "    return arr.strides\n",
        "\n",
        "# example\n",
        "arr = np.array([1.5, 2.6, 3.7])\n",
        "print(array_strides(arr))"
      ]
    },
    {
      "cell_type": "code",
      "execution_count": 18,
      "metadata": {
        "colab": {
          "base_uri": "https://localhost:8080/"
        },
        "id": "61f83ce9",
        "outputId": "7073928a-10e5-422d-d69b-e42a2176c69b"
      },
      "outputs": [
        {
          "name": "stdout",
          "output_type": "stream",
          "text": [
            "((2, 2), (16, 8))\n"
          ]
        }
      ],
      "source": [
        "# 10. Design a function shape_stride_relationship that takes a NumPy array as input and returns the shape and strides of the array.\n",
        "\n",
        "#code >\n",
        "def shape_stride_relationship(arr):\n",
        "    return arr.shape, arr.strides\n",
        "\n",
        "# example\n",
        "arr = np.array([[1, 2], [3, 4]])\n",
        "print(shape_stride_relationship(arr))"
      ]
    },
    {
      "cell_type": "code",
      "execution_count": 19,
      "metadata": {
        "colab": {
          "base_uri": "https://localhost:8080/"
        },
        "id": "49c2c1a0",
        "outputId": "b3603099-dd36-4068-90e5-d356dfe5a77b"
      },
      "outputs": [
        {
          "name": "stdout",
          "output_type": "stream",
          "text": [
            "[0. 0. 0. 0. 0.]\n"
          ]
        }
      ],
      "source": [
        "# 11. Create a function `create_zeros_array` that takes an integer `n` as input and returns a NumPy array of zeros with `n` elements.\n",
        "\n",
        "#code >\n",
        "def create_zeros_array(n):\n",
        "    return np.zeros(n)\n",
        "\n",
        "# example\n",
        "print(create_zeros_array(5))"
      ]
    },
    {
      "cell_type": "code",
      "execution_count": 20,
      "metadata": {
        "colab": {
          "base_uri": "https://localhost:8080/"
        },
        "id": "4f602e29",
        "outputId": "c08070e9-4dbd-4ecb-944a-cc353bc2107f"
      },
      "outputs": [
        {
          "name": "stdout",
          "output_type": "stream",
          "text": [
            "[[1. 1. 1.]\n",
            " [1. 1. 1.]]\n"
          ]
        }
      ],
      "source": [
        "# 12. Write a function `create_ones_matrix` that takes integers `rows` and `cols` as inputs and generates a 2D NumPy array filled with ones of size `rows x cols`.\n",
        "\n",
        "#code >\n",
        "def create_ones_matrix(rows, cols):\n",
        "    return np.ones((rows, cols))\n",
        "\n",
        "# example\n",
        "print(create_ones_matrix(2, 3))"
      ]
    },
    {
      "cell_type": "code",
      "execution_count": 21,
      "metadata": {
        "colab": {
          "base_uri": "https://localhost:8080/"
        },
        "id": "6c5a9cf9",
        "outputId": "9f1f205a-03d0-45ca-b7ae-810eb2f30f29"
      },
      "outputs": [
        {
          "name": "stdout",
          "output_type": "stream",
          "text": [
            "[1 3 5 7 9]\n"
          ]
        }
      ],
      "source": [
        "# 13. Write a function `generate_range_array` that takes three integers start, stop, and step as arguments and creates a NumPy array with a range starting from `start`, ending at stop (exclusive), and with the specified `step`.\n",
        "\n",
        "#code >\n",
        "def generate_range_array(start, stop, step):\n",
        "    return np.arange(start, stop, step)\n",
        "\n",
        "# example\n",
        "print(generate_range_array(1, 10, 2))"
      ]
    },
    {
      "cell_type": "code",
      "execution_count": 22,
      "metadata": {
        "colab": {
          "base_uri": "https://localhost:8080/"
        },
        "id": "fa061ccd",
        "outputId": "1e09cee5-2241-425d-d935-8e5b3114c961"
      },
      "outputs": [
        {
          "name": "stdout",
          "output_type": "stream",
          "text": [
            "[1. 2. 3. 4. 5.]\n"
          ]
        }
      ],
      "source": [
        "# 14. Design a function `generate_linear_space` that takes two floats `start`, `stop`, and an integer `num` as arguments and generates a NumPy array with num equally spaced values between `start` and `stop` (inclusive).\n",
        "\n",
        "#code >\n",
        "def generate_linear_space(start, stop, num):\n",
        "    return np.linspace(start, stop, num)\n",
        "\n",
        "# example\n",
        "print(generate_linear_space(1.0, 5.0, 5))"
      ]
    },
    {
      "cell_type": "code",
      "execution_count": 23,
      "metadata": {
        "colab": {
          "base_uri": "https://localhost:8080/"
        },
        "id": "a50871d5",
        "outputId": "a8457ef2-e0ef-45fc-b0c0-d0b36f9376d0"
      },
      "outputs": [
        {
          "name": "stdout",
          "output_type": "stream",
          "text": [
            "[[1. 0. 0.]\n",
            " [0. 1. 0.]\n",
            " [0. 0. 1.]]\n"
          ]
        }
      ],
      "source": [
        "# 15. Create a function `create_identity_matrix` that takes an integer `n` as input and generates a square identity matrix of size `n x n` using `numpy.eye`.\n",
        "\n",
        "#code >\n",
        "def create_identity_matrix(n):\n",
        "    return np.eye(n)\n",
        "\n",
        "# example\n",
        "print(create_identity_matrix(3))"
      ]
    },
    {
      "cell_type": "code",
      "execution_count": 24,
      "metadata": {
        "colab": {
          "base_uri": "https://localhost:8080/"
        },
        "id": "253c0a14",
        "outputId": "a19374d9-8a23-4aa5-880c-4e687f6c1223"
      },
      "outputs": [
        {
          "name": "stdout",
          "output_type": "stream",
          "text": [
            "[1 2 3 4]\n"
          ]
        }
      ],
      "source": [
        "# 16. Write a function that takes a Python list and converts it into a NumPy array.\n",
        "\n",
        "#code >\n",
        "def list_to_numpy_array(lst):\n",
        "    return np.array(lst)\n",
        "\n",
        "# example\n",
        "print(list_to_numpy_array([1, 2, 3, 4]))"
      ]
    },
    {
      "cell_type": "code",
      "execution_count": 25,
      "metadata": {
        "colab": {
          "base_uri": "https://localhost:8080/"
        },
        "id": "e9a7d194",
        "outputId": "8c656c42-0a67-40f0-d8b5-929affeab901"
      },
      "outputs": [
        {
          "name": "stdout",
          "output_type": "stream",
          "text": [
            "Original: [10 20 30 40]\n",
            "View: [10 20 30 40]\n",
            "Modified view: [100  20  30  40]\n",
            "Original after modifying view: [100  20  30  40]\n"
          ]
        }
      ],
      "source": [
        "# 17. Create a NumPy array and demonstrate the use of `numpy.view` to create a new array object with the same data.\n",
        "\n",
        "#code >\n",
        "arr = np.array([10, 20, 30, 40])\n",
        "view_arr = arr.view()\n",
        "print('Original:', arr)\n",
        "print('View:', view_arr)\n",
        "\n",
        "# example\n",
        "view_arr[0] = 100\n",
        "print('Modified view:', view_arr)\n",
        "print('Original after modifying view:', arr)"
      ]
    },
    {
      "cell_type": "code",
      "execution_count": null,
      "metadata": {
        "colab": {
          "base_uri": "https://localhost:8080/"
        },
        "id": "895c9c6e",
        "outputId": "4ce408c0-850a-42a6-b662-40a75c03243c"
      },
      "outputs": [
        {
          "name": "stdout",
          "output_type": "stream",
          "text": [
            "[[1 2]\n",
            " [3 4]\n",
            " [5 6]]\n"
          ]
        }
      ],
      "source": [
        "# 18. Write a function that takes two NumPy arrays and concatenates them along a specified axis.\n",
        "\n",
        "#code >\n",
        "import numpy as np\n",
        "def concatenate_arrays(arr1, arr2, axis=0):\n",
        "    return np.concatenate((arr1, arr2), axis=axis)\n",
        "\n",
        "# example\n",
        "a = np.array([[1, 2], [3, 4]])\n",
        "b = np.array([[5, 6]])\n",
        "print(concatenate_arrays(a, b, axis=0))"
      ]
    },
    {
      "cell_type": "code",
      "execution_count": null,
      "metadata": {
        "colab": {
          "base_uri": "https://localhost:8080/"
        },
        "id": "968e807d",
        "outputId": "102280f4-19d2-4f93-e6df-79513122fc59"
      },
      "outputs": [
        {
          "name": "stdout",
          "output_type": "stream",
          "text": [
            "[[1 3 4]\n",
            " [2 5 6]]\n"
          ]
        }
      ],
      "source": [
        "# 19. Create two NumPy arrays with different shapes and concatenate them horizontally using `numpy.concatenate`.\n",
        "\n",
        "#code >\n",
        "import numpy as np\n",
        "def horizontal_concatenate():\n",
        "    arr1 = np.array([[1], [2]])\n",
        "    arr2 = np.array([[3, 4], [5, 6]])\n",
        "    return np.concatenate((arr1, arr2), axis=1)\n",
        "\n",
        "# example\n",
        "print(horizontal_concatenate())"
      ]
    },
    {
      "cell_type": "code",
      "execution_count": null,
      "metadata": {
        "colab": {
          "base_uri": "https://localhost:8080/"
        },
        "id": "cfb7f6d9",
        "outputId": "32f6b0c8-9608-4d7a-940a-112a443ebf65"
      },
      "outputs": [
        {
          "name": "stdout",
          "output_type": "stream",
          "text": [
            "[[1 2]\n",
            " [3 4]]\n"
          ]
        }
      ],
      "source": [
        "# 20. Write a function that vertically stacks multiple NumPy arrays given as a list.\n",
        "\n",
        "#code >\n",
        "import numpy as np\n",
        "def vertical_stack(arrays):\n",
        "    return np.vstack(arrays)\n",
        "\n",
        "# example\n",
        "a = np.array([1, 2])\n",
        "b = np.array([3, 4])\n",
        "print(vertical_stack([a, b]))"
      ]
    },
    {
      "cell_type": "code",
      "execution_count": null,
      "metadata": {
        "colab": {
          "base_uri": "https://localhost:8080/"
        },
        "id": "e4b80e02",
        "outputId": "d018f42f-5316-4d60-db7b-67991e70fe29"
      },
      "outputs": [
        {
          "name": "stdout",
          "output_type": "stream",
          "text": [
            "[1 3 5 7 9]\n"
          ]
        }
      ],
      "source": [
        "# 21. Write a Python function using NumPy to create an array of integers within a specified range (inclusive) with a given step size.\n",
        "\n",
        "#code >\n",
        "import numpy as np\n",
        "def create_range_array(start, stop, step):\n",
        "    return np.arange(start, stop + 1, step)\n",
        "\n",
        "# example\n",
        "print(create_range_array(1, 10, 2))"
      ]
    },
    {
      "cell_type": "code",
      "execution_count": null,
      "metadata": {
        "colab": {
          "base_uri": "https://localhost:8080/"
        },
        "id": "471b8639",
        "outputId": "9208088e-d6e7-4152-efde-4f696b5fba5a"
      },
      "outputs": [
        {
          "name": "stdout",
          "output_type": "stream",
          "text": [
            "[0.         0.11111111 0.22222222 0.33333333 0.44444444 0.55555556\n",
            " 0.66666667 0.77777778 0.88888889 1.        ]\n"
          ]
        }
      ],
      "source": [
        "# 22. Write a Python function using NumPy to generate an array of 10 equally spaced values between 0 and 1 (inclusive).\n",
        "\n",
        "#code >\n",
        "import numpy as np\n",
        "def generate_linspace():\n",
        "    return np.linspace(0, 1, 10)\n",
        "\n",
        "# example\n",
        "print(generate_linspace())"
      ]
    },
    {
      "cell_type": "code",
      "execution_count": null,
      "metadata": {
        "colab": {
          "base_uri": "https://localhost:8080/"
        },
        "id": "7623b405",
        "outputId": "9d5015ac-2853-440e-e92c-2830f4f8c26d"
      },
      "outputs": [
        {
          "name": "stdout",
          "output_type": "stream",
          "text": [
            "[   1.            5.62341325   31.6227766   177.827941   1000.        ]\n"
          ]
        }
      ],
      "source": [
        "# 23. Write a Python function using NumPy to create an array of 5 logarithmically spaced values between 1 and 1000 (inclusive).\n",
        "\n",
        "#code >\n",
        "import numpy as np\n",
        "def generate_logspace():\n",
        "    return np.logspace(0, 3, 5)\n",
        "\n",
        "# example\n",
        "print(generate_logspace())"
      ]
    },
    {
      "cell_type": "code",
      "execution_count": null,
      "metadata": {
        "colab": {
          "base_uri": "https://localhost:8080/"
        },
        "id": "6ca2125a",
        "outputId": "6a727b99-a1e2-4450-985d-5bfcc7cd787a"
      },
      "outputs": [
        {
          "name": "stdout",
          "output_type": "stream",
          "text": [
            "    A   B   C\n",
            "0  34  94  11\n",
            "1  52  60  92\n",
            "2  95  64  58\n",
            "3  29  59  72\n",
            "4  44   7  57\n"
          ]
        }
      ],
      "source": [
        "# 24. Create a Pandas DataFrame using a NumPy array that contains 5 rows and 3 columns, where the values are random integers between 1 and 100.\n",
        "\n",
        "#code >\n",
        "import numpy as np\n",
        "import pandas as pd\n",
        "def create_dataframe():\n",
        "    data = np.random.randint(1, 101, size=(5, 3))\n",
        "    return pd.DataFrame(data, columns=['A', 'B', 'C'])\n",
        "\n",
        "# example\n",
        "print(create_dataframe())"
      ]
    },
    {
      "cell_type": "code",
      "execution_count": null,
      "metadata": {
        "colab": {
          "base_uri": "https://localhost:8080/"
        },
        "id": "3cba2de9",
        "outputId": "46953b21-31ad-4f2d-800b-a777ba03300d"
      },
      "outputs": [
        {
          "name": "stdout",
          "output_type": "stream",
          "text": [
            "   A  B\n",
            "0  1 -4\n",
            "1  0  5\n",
            "2  3 -6\n"
          ]
        }
      ],
      "source": [
        "# 25. Write a function that takes a Pandas DataFrame and replaces all negative values in a specific column with zeros. Use NumPy operations within the Pandas DataFrame.\n",
        "\n",
        "#code >\n",
        "import pandas as pd\n",
        "import numpy as np\n",
        "def replace_negatives(df, column):\n",
        "    df[column] = np.where(df[column] < 0, 0, df[column])\n",
        "    return df\n",
        "\n",
        "# example\n",
        "df = pd.DataFrame({'A': [1, -2, 3], 'B': [-4, 5, -6]})\n",
        "print(replace_negatives(df, 'A'))"
      ]
    },
    {
      "cell_type": "code",
      "execution_count": null,
      "metadata": {
        "colab": {
          "base_uri": "https://localhost:8080/"
        },
        "id": "d0b505de",
        "outputId": "fb290254-930d-4a80-ae14-4fd8fd09afe0"
      },
      "outputs": [
        {
          "name": "stdout",
          "output_type": "stream",
          "text": [
            "30\n"
          ]
        }
      ],
      "source": [
        "# 26. Access the 3rd element from the given NumPy array.\n",
        "# arr = np.array([10, 20, 30, 40, 50])\n",
        "\n",
        "#code >\n",
        "import numpy as np\n",
        "def access_third_element(arr):\n",
        "    return arr[2]\n",
        "\n",
        "# example\n",
        "arr = np.array([10, 20, 30, 40, 50])\n",
        "print(access_third_element(arr))"
      ]
    },
    {
      "cell_type": "code",
      "execution_count": null,
      "metadata": {
        "colab": {
          "base_uri": "https://localhost:8080/"
        },
        "id": "acea9f3c",
        "outputId": "365512ab-3f1c-4b7e-e04a-600af4528ba8"
      },
      "outputs": [
        {
          "name": "stdout",
          "output_type": "stream",
          "text": [
            "6\n"
          ]
        }
      ],
      "source": [
        "# 27. Retrieve the element at index (1, 2) from the 2D NumPy array.\n",
        "# arr_2d = np.array([[1, 2, 3], [4, 5, 6], [7, 8, 9]])\n",
        "\n",
        "#code >\n",
        "import numpy as np\n",
        "def get_element_1_2(arr):\n",
        "    return arr[1, 2]\n",
        "\n",
        "# example\n",
        "arr = np.array([[1, 2, 3],\n",
        "                [4, 5, 6],\n",
        "                [7, 8, 9]])\n",
        "print(get_element_1_2(arr))"
      ]
    },
    {
      "cell_type": "code",
      "execution_count": null,
      "metadata": {
        "colab": {
          "base_uri": "https://localhost:8080/"
        },
        "id": "13a2c490",
        "outputId": "35488daf-8599-49c5-e5c3-026f47257280"
      },
      "outputs": [
        {
          "name": "stdout",
          "output_type": "stream",
          "text": [
            "[ 8 10  7]\n"
          ]
        }
      ],
      "source": [
        "# 28. Using boolean indexing, extract elements greater than 5 from the given NumPy array.\n",
        "# arr = np.array([3, 8, 2, 10, 5, 7])\n",
        "\n",
        "#code >\n",
        "import numpy as np\n",
        "def extract_greater_than_5(arr):\n",
        "    return arr[arr > 5]\n",
        "\n",
        "# example\n",
        "arr = np.array([3, 8, 2, 10, 5, 7])\n",
        "print(extract_greater_than_5(arr))"
      ]
    },
    {
      "cell_type": "code",
      "execution_count": null,
      "metadata": {
        "colab": {
          "base_uri": "https://localhost:8080/"
        },
        "id": "393b0d1b",
        "outputId": "6ac9f1e4-f673-4904-e81f-4a893962f6c3"
      },
      "outputs": [
        {
          "name": "stdout",
          "output_type": "stream",
          "text": [
            "[3 4 5 6]\n"
          ]
        }
      ],
      "source": [
        "# 29. Perform basic slicing to extract elements from index 2 to 5 (inclusive) from the given NumPy array.\n",
        "# arr = np.array([1, 2, 3, 4, 5, 6, 7, 8, 9])\n",
        "\n",
        "#code >\n",
        "import numpy as np\n",
        "def slice_array(arr):\n",
        "    return arr[2:6]\n",
        "\n",
        "# example\n",
        "arr = np.array([1, 2, 3, 4, 5, 6, 7, 8, 9])\n",
        "print(slice_array(arr))"
      ]
    },
    {
      "cell_type": "code",
      "execution_count": null,
      "metadata": {
        "colab": {
          "base_uri": "https://localhost:8080/"
        },
        "id": "26982aca",
        "outputId": "1ae9082a-2a6a-42a8-8587-ae3f5b016423"
      },
      "outputs": [
        {
          "name": "stdout",
          "output_type": "stream",
          "text": [
            "[[2 3]\n",
            " [5 6]]\n"
          ]
        }
      ],
      "source": [
        "# 30. Slice the 2D NumPy array to extract the sub-array `[[2, 3], [5, 6]]` from the given array.\n",
        "# arr_2d = np.array([[1, 2, 3], [4, 5, 6], [7, 8, 9]])\n",
        "\n",
        "#code >\n",
        "import numpy as np\n",
        "def extract_sub_array(arr):\n",
        "    return arr[0:2, 1:3]\n",
        "\n",
        "# example\n",
        "arr = np.array([[1, 2, 3],\n",
        "                [4, 5, 6],\n",
        "                [7, 8, 9]])\n",
        "print(extract_sub_array(arr))"
      ]
    },
    {
      "cell_type": "code",
      "execution_count": null,
      "metadata": {
        "colab": {
          "base_uri": "https://localhost:8080/"
        },
        "id": "343f88b2",
        "outputId": "43c3a863-0e30-47dc-809d-4c249e105cb4"
      },
      "outputs": [
        {
          "name": "stdout",
          "output_type": "stream",
          "text": [
            "[20 60]\n"
          ]
        }
      ],
      "source": [
        "# 31. Write a NumPy function to extract elements in specific order from a given 2D array based on indices provided in another array.\n",
        "\n",
        "#code >\n",
        "import numpy as np\n",
        "def extract_by_indices(arr, indices):\n",
        "    return arr[tuple(indices.T)]\n",
        "\n",
        "# example\n",
        "arr = np.array([[10, 20, 30],\n",
        "                [40, 50, 60]])\n",
        "indices = np.array([[0, 1], [1, 2]])\n",
        "print(extract_by_indices(arr, indices))"
      ]
    },
    {
      "cell_type": "code",
      "execution_count": null,
      "metadata": {
        "colab": {
          "base_uri": "https://localhost:8080/"
        },
        "id": "db0d522c",
        "outputId": "1d24feed-1e9e-4062-ca37-539a6ec0b7c4"
      },
      "outputs": [
        {
          "name": "stdout",
          "output_type": "stream",
          "text": [
            "[6 9]\n"
          ]
        }
      ],
      "source": [
        "# 32. Create a NumPy function that filters elements greater than a threshold from a given 1D array using boolean indexing.\n",
        "\n",
        "#code >\n",
        "import numpy as np\n",
        "def filter_greater_than(arr, threshold):\n",
        "    return arr[arr > threshold]\n",
        "\n",
        "# example\n",
        "arr = np.array([3, 6, 1, 9, 2])\n",
        "print(filter_greater_than(arr, 4))"
      ]
    },
    {
      "cell_type": "code",
      "execution_count": null,
      "metadata": {
        "colab": {
          "base_uri": "https://localhost:8080/"
        },
        "id": "1f75262b",
        "outputId": "059a3f02-9052-41f0-ed97-78b03be70bbe"
      },
      "outputs": [
        {
          "name": "stdout",
          "output_type": "stream",
          "text": [
            "[ 5 10 24]\n"
          ]
        }
      ],
      "source": [
        "# 33. Develop a NumPy function that extracts specific elements from a 3D array using indices provided in three separate arrays for each dimension.\n",
        "\n",
        "#code >\n",
        "import numpy as np\n",
        "def extract_3d_elements(arr, x_idx, y_idx, z_idx):\n",
        "    return arr[x_idx, y_idx, z_idx]\n",
        "\n",
        "# example\n",
        "arr = np.arange(27).reshape((3, 3, 3))\n",
        "x = np.array([0, 1, 2])\n",
        "y = np.array([1, 0, 2])\n",
        "z = np.array([2, 1, 0])\n",
        "print(extract_3d_elements(arr, x, y, z))"
      ]
    },
    {
      "cell_type": "code",
      "execution_count": null,
      "metadata": {
        "colab": {
          "base_uri": "https://localhost:8080/"
        },
        "id": "e1826023",
        "outputId": "77acc78f-feb7-4872-b4b1-f2f5793e15c0"
      },
      "outputs": [
        {
          "name": "stdout",
          "output_type": "stream",
          "text": [
            "[4 6]\n"
          ]
        }
      ],
      "source": [
        "# 34. Write a NumPy function that returns elements from an array where both two conditions are satisfied using boolean indexing.\n",
        "\n",
        "#code >\n",
        "import numpy as np\n",
        "def filter_two_conditions(arr):\n",
        "    return arr[(arr > 3) & (arr < 8)]\n",
        "\n",
        "# example\n",
        "arr = np.array([1, 4, 6, 8, 10])\n",
        "print(filter_two_conditions(arr))"
      ]
    },
    {
      "cell_type": "code",
      "execution_count": null,
      "metadata": {
        "colab": {
          "base_uri": "https://localhost:8080/"
        },
        "id": "12b130fb",
        "outputId": "600cb430-c61a-435a-a3f9-43e254f65613"
      },
      "outputs": [
        {
          "name": "stdout",
          "output_type": "stream",
          "text": [
            "[30 50 70]\n"
          ]
        }
      ],
      "source": [
        "# 35. Create a NumPy function that extracts elements from a 2D array using row and column indices provided in separate arrays.\n",
        "\n",
        "#code >\n",
        "import numpy as np\n",
        "def extract_with_row_col(arr, row_indices, col_indices):\n",
        "    return arr[row_indices, col_indices]\n",
        "\n",
        "# example\n",
        "arr = np.array([[10, 20, 30],\n",
        "                [40, 50, 60],\n",
        "                [70, 80, 90]])\n",
        "rows = np.array([0, 1, 2])\n",
        "cols = np.array([2, 1, 0])\n",
        "print(extract_with_row_col(arr, rows, cols))"
      ]
    },
    {
      "cell_type": "code",
      "execution_count": null,
      "metadata": {
        "colab": {
          "base_uri": "https://localhost:8080/"
        },
        "id": "679ea8c0",
        "outputId": "e05adcfe-7a94-4689-c3db-f9f9319f02b8"
      },
      "outputs": [
        {
          "name": "stdout",
          "output_type": "stream",
          "text": [
            "[[ 6  7  8]\n",
            " [ 9 10 11]\n",
            " [12 13 14]]\n"
          ]
        }
      ],
      "source": [
        "# 36. Given an array arr of shape (3, 3), add a scalar value of 5 to each element using NumPy broadcasting.\n",
        "\n",
        "#code >\n",
        "import numpy as np\n",
        "def add_scalar(arr):\n",
        "    return arr + 5\n",
        "\n",
        "# example\n",
        "arr = np.array([[1, 2, 3],\n",
        "                [4, 5, 6],\n",
        "                [7, 8, 9]])\n",
        "print(add_scalar(arr))"
      ]
    },
    {
      "cell_type": "code",
      "execution_count": null,
      "metadata": {
        "colab": {
          "base_uri": "https://localhost:8080/"
        },
        "id": "7e6f4899",
        "outputId": "5174ca51-422e-49f5-ed82-9bfb60c859c7"
      },
      "outputs": [
        {
          "name": "stdout",
          "output_type": "stream",
          "text": [
            "[[1 1 1 1]\n",
            " [4 4 4 4]\n",
            " [9 9 9 9]]\n"
          ]
        }
      ],
      "source": [
        "# 37. Consider two arrays arr1 of shape (1, 3) and arr2 of shape (3, 4). Multiply each row of arr2 by the corresponding element in arr1 using NumPy broadcasting.\n",
        "\n",
        "#code >\n",
        "import numpy as np\n",
        "def broadcast_multiply(arr1, arr2):\n",
        "    return arr1.T * arr2\n",
        "\n",
        "# example\n",
        "arr1 = np.array([[1, 2, 3]])\n",
        "arr2 = np.array([[1, 1, 1, 1],\n",
        "                 [2, 2, 2, 2],\n",
        "                 [3, 3, 3, 3]])\n",
        "print(broadcast_multiply(arr1, arr2))"
      ]
    },
    {
      "cell_type": "code",
      "execution_count": null,
      "metadata": {
        "colab": {
          "base_uri": "https://localhost:8080/"
        },
        "id": "02c88278",
        "outputId": "53f12c52-9e5d-4346-cc19-df64ba7975dd"
      },
      "outputs": [
        {
          "name": "stdout",
          "output_type": "stream",
          "text": [
            "[[ 11  21  31]\n",
            " [ 42  52  62]\n",
            " [ 73  83  93]\n",
            " [104 114 124]]\n"
          ]
        }
      ],
      "source": [
        "# 38. Given a 1D array arr1 of shape (1, 4) and a 2D array arr2 of shape (4, 3), add arr1 to each row of arr2 using NumPy broadcasting.\n",
        "\n",
        "#code >\n",
        "import numpy as np\n",
        "def add_1d_to_2d(arr1, arr2):\n",
        "    return arr2 + arr1.T\n",
        "\n",
        "# example\n",
        "arr1 = np.array([[1, 2, 3, 4]])\n",
        "arr2 = np.array([[10, 20, 30],\n",
        "                 [40, 50, 60],\n",
        "                 [70, 80, 90],\n",
        "                 [100, 110, 120]])\n",
        "print(add_1d_to_2d(arr1, arr2))"
      ]
    },
    {
      "cell_type": "code",
      "execution_count": null,
      "metadata": {
        "colab": {
          "base_uri": "https://localhost:8080/"
        },
        "id": "b9473fd0",
        "outputId": "257421ff-3311-4428-ef41-9c578ffca8f7"
      },
      "outputs": [
        {
          "name": "stdout",
          "output_type": "stream",
          "text": [
            "[[11 21 31]\n",
            " [12 22 32]\n",
            " [13 23 33]]\n"
          ]
        }
      ],
      "source": [
        "# 39. Consider two arrays arr1 of shape (3, 1) and arr2 of shape (1, 3). Add these arrays using NumPy broadcasting.\n",
        "\n",
        "#code >\n",
        "import numpy as np\n",
        "def add_2d_broadcast(arr1, arr2):\n",
        "    return arr1 + arr2\n",
        "\n",
        "# example\n",
        "arr1 = np.array([[1], [2], [3]])\n",
        "arr2 = np.array([[10, 20, 30]])\n",
        "print(add_2d_broadcast(arr1, arr2))"
      ]
    },
    {
      "cell_type": "code",
      "execution_count": null,
      "metadata": {
        "colab": {
          "base_uri": "https://localhost:8080/"
        },
        "id": "e3a287d2",
        "outputId": "2eb6e52a-26ea-495d-b382-185ffc1805ca"
      },
      "outputs": [
        {
          "name": "stdout",
          "output_type": "stream",
          "text": [
            "operands could not be broadcast together with shapes (2,3) (2,2) \n"
          ]
        }
      ],
      "source": [
        "# 40. Given arrays arr1 of shape (2, 3) and arr2 of shape (2, 2), perform multiplication using NumPy broadcasting. Handle the shape incompatibility.\n",
        "\n",
        "#code >\n",
        "import numpy as np\n",
        "def broadcast_multiply_incompatible(arr1, arr2):\n",
        "    try:\n",
        "        return arr1 * arr2\n",
        "    except ValueError as e:\n",
        "        return str(e)\n",
        "\n",
        "# example\n",
        "arr1 = np.array([[1, 2, 3], [4, 5, 6]])\n",
        "arr2 = np.array([[1, 2], [3, 4]])\n",
        "print(broadcast_multiply_incompatible(arr1, arr2))"
      ]
    },
    {
      "cell_type": "code",
      "execution_count": null,
      "metadata": {
        "colab": {
          "base_uri": "https://localhost:8080/"
        },
        "id": "72fb9a70",
        "outputId": "38fb650f-69b6-4cc9-cd07-81525790d2bf"
      },
      "outputs": [
        {
          "name": "stdout",
          "output_type": "stream",
          "text": [
            "[2.5 3.5 4.5]\n"
          ]
        }
      ],
      "source": [
        "# 41. Calculate column-wise mean for the given array:\n",
        "# arr = np.array([[1, 2, 3], [4, 5, 6]])\n",
        "\n",
        "#code >\n",
        "import numpy as np\n",
        "def column_mean(arr):\n",
        "    return np.mean(arr, axis=0)\n",
        "\n",
        "# example\n",
        "arr = np.array([[1, 2, 3], [4, 5, 6]])\n",
        "print(column_mean(arr))"
      ]
    },
    {
      "cell_type": "code",
      "execution_count": null,
      "metadata": {
        "colab": {
          "base_uri": "https://localhost:8080/"
        },
        "id": "4cb4a1d1",
        "outputId": "72d84ce5-8b92-4dd9-c192-ed9412faaf20"
      },
      "outputs": [
        {
          "name": "stdout",
          "output_type": "stream",
          "text": [
            "[3 6]\n"
          ]
        }
      ],
      "source": [
        "# 42. Find maximum value in each row of the given array:\n",
        "# arr = np.array([[1, 2, 3], [4, 5, 6]])\n",
        "\n",
        "#code >\n",
        "import numpy as np\n",
        "def row_max(arr):\n",
        "    return np.max(arr, axis=1)\n",
        "\n",
        "# example\n",
        "arr = np.array([[1, 2, 3], [4, 5, 6]])\n",
        "print(row_max(arr))"
      ]
    },
    {
      "cell_type": "code",
      "execution_count": null,
      "metadata": {
        "colab": {
          "base_uri": "https://localhost:8080/"
        },
        "id": "e7fba7a6",
        "outputId": "fd447b1e-62c7-4007-d9ad-3eda66cebdde"
      },
      "outputs": [
        {
          "name": "stdout",
          "output_type": "stream",
          "text": [
            "[1 1 1]\n"
          ]
        }
      ],
      "source": [
        "# 43. For the given array, find indices of maximum value in each column.\n",
        "# arr = np.array([[1, 2, 3], [4, 5, 6]])\n",
        "\n",
        "#code >\n",
        "import numpy as np\n",
        "def max_indices_column(arr):\n",
        "    return np.argmax(arr, axis=0)\n",
        "\n",
        "# example\n",
        "arr = np.array([[1, 2, 3], [4, 5, 6]])\n",
        "print(max_indices_column(arr))"
      ]
    },
    {
      "cell_type": "code",
      "execution_count": null,
      "metadata": {
        "colab": {
          "base_uri": "https://localhost:8080/"
        },
        "id": "e40771bd",
        "outputId": "07611060-d741-4630-acc6-d22fd872e4c6"
      },
      "outputs": [
        {
          "name": "stdout",
          "output_type": "stream",
          "text": [
            "[[ 3  5]\n",
            " [ 9 11]]\n"
          ]
        }
      ],
      "source": [
        "# 44. For the given array, apply custom function to calculate moving sum along rows.\n",
        "# arr = np.array([[1, 2, 3], [4, 5, 6]])\n",
        "\n",
        "#code >\n",
        "import numpy as np\n",
        "def moving_sum(arr, window=2):\n",
        "    return np.array([np.convolve(row, np.ones(window, dtype=int), 'valid') for row in arr])\n",
        "\n",
        "# example\n",
        "arr = np.array([[1, 2, 3], [4, 5, 6]])\n",
        "print(moving_sum(arr))"
      ]
    },
    {
      "cell_type": "code",
      "execution_count": null,
      "metadata": {
        "colab": {
          "base_uri": "https://localhost:8080/"
        },
        "id": "779a314d",
        "outputId": "c1f90309-1b4e-4084-b64f-f5ee8ddc5b97"
      },
      "outputs": [
        {
          "name": "stdout",
          "output_type": "stream",
          "text": [
            "[False False False]\n"
          ]
        }
      ],
      "source": [
        "# 45. In the given array, check if all elements in each column are even.\n",
        "# arr = np.array([[1, 2, 3], [4, 5, 6]])\n",
        "\n",
        "#code >\n",
        "import numpy as np\n",
        "def all_even_columns(arr):\n",
        "    return np.all(arr % 2 == 0, axis=0)\n",
        "\n",
        "# example\n",
        "arr = np.array([[2, 4, 6], [3, 5, 7]])\n",
        "print(all_even_columns(arr))"
      ]
    },
    {
      "cell_type": "code",
      "execution_count": null,
      "metadata": {
        "colab": {
          "base_uri": "https://localhost:8080/"
        },
        "id": "65045e28",
        "outputId": "91c63a31-1e93-4f7c-ab3a-d86a3e07b6f1"
      },
      "outputs": [
        {
          "name": "stdout",
          "output_type": "stream",
          "text": [
            "[[1 2 3]\n",
            " [4 5 6]]\n"
          ]
        }
      ],
      "source": [
        "# 46. Given a NumPy array arr, reshape it into a matrix of dimensions `m` rows and `n` columns. Return the reshaped matrix.\n",
        "# original_array = np.array([1, 2, 3, 4, 5, 6])\n",
        "\n",
        "#code >\n",
        "import numpy as np\n",
        "def reshape_array(arr, m, n):\n",
        "    return arr.reshape((m, n))\n",
        "\n",
        "#example >\n",
        "original_array = np.array([1, 2, 3, 4, 5, 6])\n",
        "reshaped_matrix = reshape_array(original_array, 2, 3)\n",
        "print(reshaped_matrix)"
      ]
    },
    {
      "cell_type": "code",
      "execution_count": null,
      "metadata": {
        "colab": {
          "base_uri": "https://localhost:8080/"
        },
        "id": "517300c6",
        "outputId": "91d5b16c-835f-4edc-b615-7e4071e8c7cb"
      },
      "outputs": [
        {
          "name": "stdout",
          "output_type": "stream",
          "text": [
            "[1 2 3 4 5 6]\n"
          ]
        }
      ],
      "source": [
        "# 47. Create a function that takes a matrix as input and returns the flattened array.\n",
        "# input_matrix = np.array([[1, 2, 3], [4, 5, 6]])\n",
        "\n",
        "#code >\n",
        "def flatten_matrix(matrix):\n",
        "    return matrix.flatten()\n",
        "\n",
        "# example\n",
        "input_matrix = np.array([[1, 2, 3], [4, 5, 6]])\n",
        "print(flatten_matrix(matrix))"
      ]
    },
    {
      "cell_type": "code",
      "execution_count": null,
      "metadata": {
        "colab": {
          "base_uri": "https://localhost:8080/"
        },
        "id": "92e0acf5",
        "outputId": "dd7eb3e7-7313-4b05-ec8e-5355b3baa225"
      },
      "outputs": [
        {
          "name": "stdout",
          "output_type": "stream",
          "text": [
            "[[1 2]\n",
            " [3 4]\n",
            " [5 6]\n",
            " [7 8]]\n"
          ]
        }
      ],
      "source": [
        "# 48. Write a function that concatenates two given arrays along a specified axis.\n",
        "# array1 = np.array([[1, 2], [3, 4]])\n",
        "# array2 = np.array([[5, 6], [7, 8]])\n",
        "\n",
        "#code >\n",
        "def concatenate_arrays(arr1, arr2, axis=0):\n",
        "    return np.concatenate((arr1, arr2), axis=axis)\n",
        "\n",
        "# example\n",
        "array1 = np.array([[1, 2], [3, 4]])\n",
        "array2 = np.array([[5, 6], [7, 8]])\n",
        "print(concatenate_arrays(array1, array2, axis=0))"
      ]
    },
    {
      "cell_type": "code",
      "execution_count": null,
      "metadata": {
        "colab": {
          "base_uri": "https://localhost:8080/"
        },
        "id": "a03c7416",
        "outputId": "aa8ed903-d390-4d20-f69b-ba7d91e15410"
      },
      "outputs": [
        {
          "name": "stdout",
          "output_type": "stream",
          "text": [
            "[array([[1, 2, 3]]), array([[4, 5, 6]]), array([[7, 8, 9]])]\n"
          ]
        }
      ],
      "source": [
        "# 49. Create a function that splits an array into multiple sub-arrays along a specified axis.\n",
        "# original_array = np.array([[1, 2, 3], [4, 5, 6], [7, 8, 9]])\n",
        "\n",
        "#code >\n",
        "def split_array(arr, sections, axis=0):\n",
        "    return np.array_split(arr, sections, axis=axis)\n",
        "\n",
        "#example >\n",
        "original_array = np.array([[1, 2, 3], [4, 5, 6], [7, 8, 9]])\n",
        "\n",
        "# Split into 3 parts along axis=0 (rows)\n",
        "split_result = split_array(original_array, 3, axis=0)\n",
        "print(split_result)\n"
      ]
    },
    {
      "cell_type": "code",
      "execution_count": null,
      "metadata": {
        "colab": {
          "base_uri": "https://localhost:8080/"
        },
        "id": "24ebe224",
        "outputId": "6bc94ce1-f3df-4f1a-b90a-35ceb45ff1b5"
      },
      "outputs": [
        {
          "name": "stdout",
          "output_type": "stream",
          "text": [
            "[ 1 10  4 11  5]\n"
          ]
        }
      ],
      "source": [
        "# 50. Write a function that inserts and then deletes elements from a given array at specified indices.\n",
        "# original_array = np.array([1, 2, 3, 4, 5])\n",
        "# indices_to_insert = [2, 4]\n",
        "# values_to_insert = [10, 11]\n",
        "# indices_to_delete = [1, 3]\n",
        "\n",
        "#code >\n",
        "def insert_and_delete(arr, ins_indices, ins_values, del_indices):\n",
        "    arr = np.insert(arr, ins_indices, ins_values)\n",
        "    arr = np.delete(arr, del_indices)\n",
        "    return arr\n",
        "\n",
        "# example\n",
        "original_array = np.array([1, 2, 3, 4, 5])\n",
        "indices_to_insert = [2, 4]\n",
        "values_to_insert = [10, 11]\n",
        "indices_to_delete = [1, 3]\n",
        "print(insert_and_delete(original_array, indices_to_insert, values_to_insert, indices_to_delete))"
      ]
    },
    {
      "cell_type": "code",
      "execution_count": 26,
      "metadata": {
        "colab": {
          "base_uri": "https://localhost:8080/"
        },
        "id": "96dfbf85",
        "outputId": "c4c5669b-a25d-446f-83a3-894536672677"
      },
      "outputs": [
        {
          "name": "stdout",
          "output_type": "stream",
          "text": [
            "[52 78 35 65 64 86 69 64 77 92]\n"
          ]
        }
      ],
      "source": [
        "# 51. Create a NumPy array `arr1` with random integers and another array `arr2` with integers from 1 to 10. Perform element-wise addition between `arr1` and `arr2`.\n",
        "\n",
        "#code >\n",
        "arr1 = np.random.randint(1, 100, 10)\n",
        "arr2 = np.arange(1, 11)\n",
        "print(arr1 + arr2)"
      ]
    },
    {
      "cell_type": "code",
      "execution_count": 27,
      "metadata": {
        "colab": {
          "base_uri": "https://localhost:8080/"
        },
        "id": "35c404de",
        "outputId": "1eedcb62-903b-41b5-a6f8-d604556b82c3"
      },
      "outputs": [
        {
          "name": "stdout",
          "output_type": "stream",
          "text": [
            "[ 9  7  5  3  1 -1 -3 -5 -7 -9]\n"
          ]
        }
      ],
      "source": [
        "# 52. Generate a NumPy array `arr1` with sequential integers from 10 to 1 and another array `arr2` with integers from 1 to 10. Subtract `arr2` from `arr1` element-wise.\n",
        "\n",
        "#code >\n",
        "arr1 = np.arange(10, 0, -1)\n",
        "arr2 = np.arange(1, 11)\n",
        "print(arr1 - arr2)"
      ]
    },
    {
      "cell_type": "code",
      "execution_count": 28,
      "metadata": {
        "colab": {
          "base_uri": "https://localhost:8080/"
        },
        "id": "c1f3a249",
        "outputId": "da9a0dbf-0212-4f0e-bbb0-c985dcf831a4"
      },
      "outputs": [
        {
          "name": "stdout",
          "output_type": "stream",
          "text": [
            "[ 7 12 24 36 15]\n"
          ]
        }
      ],
      "source": [
        "# 53. Create a NumPy array `arr1` with random integers and another array `arr2` with integers from 1 to 5. Perform element-wise multiplication between `arr1` and `arr2`.\n",
        "\n",
        "#code >\n",
        "arr1 = np.random.randint(1, 10, 5)\n",
        "arr2 = np.arange(1, 6)\n",
        "print(arr1 * arr2)"
      ]
    },
    {
      "cell_type": "code",
      "execution_count": 29,
      "metadata": {
        "colab": {
          "base_uri": "https://localhost:8080/"
        },
        "id": "04267788",
        "outputId": "0628713e-9034-4687-d1a2-31af93d9e8cf"
      },
      "outputs": [
        {
          "name": "stdout",
          "output_type": "stream",
          "text": [
            "[2. 2. 2. 2. 2.]\n"
          ]
        }
      ],
      "source": [
        "# 54. Generate a NumPy array `arr1` with even integers from 2 to 10 and another array `arr2` with integers from 1 to 5. Perform element-wise division of `arr1` by `arr2`.\n",
        "\n",
        "#code >\n",
        "arr1 = np.arange(2, 11, 2)\n",
        "arr2 = np.arange(1, 6)\n",
        "print(arr1 / arr2)"
      ]
    },
    {
      "cell_type": "code",
      "execution_count": 30,
      "metadata": {
        "colab": {
          "base_uri": "https://localhost:8080/"
        },
        "id": "eeef65bf",
        "outputId": "f6361b63-3719-49b2-944d-221ded2985e1"
      },
      "outputs": [
        {
          "name": "stdout",
          "output_type": "stream",
          "text": [
            "[ 1 16 27 16  5]\n"
          ]
        }
      ],
      "source": [
        "# 55. Create a NumPy array `arr1` with integers from 1 to 5 and another array `arr2` with the same numbers reversed. Calculate the exponentiation of `arr1` raised to the power of `arr2` element-wise.\n",
        "\n",
        "#code >\n",
        "arr1 = np.arange(1, 6)\n",
        "arr2 = arr1[::-1]\n",
        "print(arr1 ** arr2)"
      ]
    },
    {
      "cell_type": "code",
      "execution_count": 31,
      "metadata": {
        "colab": {
          "base_uri": "https://localhost:8080/"
        },
        "id": "61667d68",
        "outputId": "e758d2be-c3be-455d-f368-e65ad3493cb3"
      },
      "outputs": [
        {
          "name": "stdout",
          "output_type": "stream",
          "text": [
            "[1 0 1 0 1]\n"
          ]
        }
      ],
      "source": [
        "# 56. Write a function that counts the occurrences of a specific substring within a NumPy array of strings.\n",
        "# arr = np.array(['hello', 'world', 'hello', 'numpy', 'hello']\n",
        "\n",
        "#code >\n",
        "def count_substring(arr, substr):\n",
        "    return np.char.count(arr, substr)\n",
        "\n",
        "# example\n",
        "arr = np.array(['hello', 'world', 'hello', 'numpy', 'hello'])\n",
        "print(count_substring(arr, 'hello'))"
      ]
    },
    {
      "cell_type": "code",
      "execution_count": null,
      "metadata": {
        "colab": {
          "base_uri": "https://localhost:8080/"
        },
        "id": "4ed6e26e",
        "outputId": "f845f1b1-6e9a-4eb3-87a4-ea3a003ce585"
      },
      "outputs": [
        {
          "name": "stdout",
          "output_type": "stream",
          "text": [
            "['H' 'W' 'OAI' 'GPT']\n"
          ]
        }
      ],
      "source": [
        "# 57. Write a function that extracts uppercase characters from a NumPy array of strings.\n",
        "# arr = np.array(['Hello', 'World', 'OpenAI', 'GPT'])\n",
        "\n",
        "#code >\n",
        "def extract_uppercase(arr):\n",
        "    return np.array([''.join([c for c in word if c.isupper()]) for word in arr])\n",
        "\n",
        "# example\n",
        "arr = np.array(['Hello', 'World', 'OpenAI', 'GPT'])\n",
        "print(extract_uppercase(arr))"
      ]
    },
    {
      "cell_type": "code",
      "execution_count": null,
      "metadata": {
        "colab": {
          "base_uri": "https://localhost:8080/"
        },
        "id": "a7c2af6c",
        "outputId": "2767b871-bac1-49d2-d1cd-2ab919243c93"
      },
      "outputs": [
        {
          "name": "stdout",
          "output_type": "stream",
          "text": [
            "['fruit' 'banana' 'grape' 'pinefruit']\n"
          ]
        }
      ],
      "source": [
        "# 58. Write a function that replaces occurrences of a substring in a NumPy array of strings with a new string.\n",
        "# arr = np.array(['apple', 'banana', 'grape', 'pineapple'])\n",
        "\n",
        "#code >\n",
        "def replace_substring(arr, old, new):\n",
        "    return np.char.replace(arr, old, new)\n",
        "\n",
        "# example\n",
        "arr = np.array(['apple', 'banana', 'grape', 'pineapple'])\n",
        "print(replace_substring(arr, 'apple', 'fruit'))"
      ]
    },
    {
      "cell_type": "code",
      "execution_count": null,
      "metadata": {
        "colab": {
          "base_uri": "https://localhost:8080/"
        },
        "id": "a3cabda1",
        "outputId": "fe625980-ff94-4d93-909a-ea6e35d360c1"
      },
      "outputs": [
        {
          "name": "stdout",
          "output_type": "stream",
          "text": [
            "['HelloOpen' 'WorldAI']\n"
          ]
        }
      ],
      "source": [
        "# 59. Write a function that concatenates strings in a NumPy array element-wise.\n",
        "# arr1 = np.array(['Hello', 'World'])\n",
        "# arr2 = np.array(['Open', 'AI'])\n",
        "\n",
        "#code >\n",
        "def concat_strings(arr1, arr2):\n",
        "    return np.char.add(arr1, arr2)\n",
        "\n",
        "# example\n",
        "arr1 = np.array(['Hello', 'World'])\n",
        "arr2 = np.array(['Open', 'AI'])\n",
        "print(concat_strings(arr1, arr2))"
      ]
    },
    {
      "cell_type": "code",
      "execution_count": 32,
      "metadata": {
        "colab": {
          "base_uri": "https://localhost:8080/"
        },
        "id": "1c1516b7",
        "outputId": "eaacc74a-a3c5-4f91-949a-829ae918e64b"
      },
      "outputs": [
        {
          "name": "stdout",
          "output_type": "stream",
          "text": [
            "9\n"
          ]
        }
      ],
      "source": [
        "# 60. Write a function that finds the length of the longest string in a NumPy array.\n",
        "# arr = np.array(['apple', 'banana', 'grape', 'pineapple'])\n",
        "\n",
        "#code >\n",
        "def max_string_length(arr):\n",
        "    return max(np.char.str_len(arr))\n",
        "\n",
        "# example\n",
        "arr = np.array(['apple', 'banana', 'grape', 'pineapple'])\n",
        "print(max_string_length(arr))"
      ]
    },
    {
      "cell_type": "code",
      "execution_count": 33,
      "metadata": {
        "colab": {
          "base_uri": "https://localhost:8080/"
        },
        "id": "9707a9e1",
        "outputId": "ba414055-5344-47f4-89ec-a9c8fcb6ca76"
      },
      "outputs": [
        {
          "name": "stdout",
          "output_type": "stream",
          "text": [
            "Mean: 513.72\n",
            "Median: 535.0\n",
            "Variance: 73773.28160000002\n",
            "Standard Deviation: 271.61237379766044\n"
          ]
        }
      ],
      "source": [
        "# 61. Create a dataset of 100 random integers between 1 and 1000. Compute the mean, median, variance, and standard deviation of the dataset using NumPy's functions.\n",
        "\n",
        "#code >\n",
        "import numpy as np\n",
        "data = np.random.randint(1, 1001, 100)\n",
        "print('Mean:', np.mean(data))\n",
        "print('Median:', np.median(data))\n",
        "print('Variance:', np.var(data))\n",
        "print('Standard Deviation:', np.std(data))"
      ]
    },
    {
      "cell_type": "code",
      "execution_count": 34,
      "metadata": {
        "colab": {
          "base_uri": "https://localhost:8080/"
        },
        "id": "330abaeb",
        "outputId": "b2ec4be2-0db2-4f37-bd29-ce5c7c70f50b"
      },
      "outputs": [
        {
          "name": "stdout",
          "output_type": "stream",
          "text": [
            "25th Percentile: 29.0\n",
            "75th Percentile: 78.75\n"
          ]
        }
      ],
      "source": [
        "# 62. Generate an array of 50 random numbers between 1 and 100. Find the 25th and 75th percentiles of the dataset.\n",
        "\n",
        "#code >\n",
        "arr = np.random.randint(1, 101, 50)\n",
        "print('25th Percentile:', np.percentile(arr, 25))\n",
        "print('75th Percentile:', np.percentile(arr, 75))"
      ]
    },
    {
      "cell_type": "code",
      "execution_count": 35,
      "metadata": {
        "colab": {
          "base_uri": "https://localhost:8080/"
        },
        "id": "0b84127b",
        "outputId": "ce45ef28-1fb8-40cd-cd1e-a5e69cd27fd5"
      },
      "outputs": [
        {
          "name": "stdout",
          "output_type": "stream",
          "text": [
            "[[1.         0.18902003]\n",
            " [0.18902003 1.        ]]\n"
          ]
        }
      ],
      "source": [
        "# 63. Create two arrays representing two sets of variables. Compute the correlation coefficient between these arrays using NumPy's `corrcoef` function.\n",
        "\n",
        "#code >\n",
        "x = np.random.randint(1, 100, 20)\n",
        "y = np.random.randint(1, 100, 20)\n",
        "print(np.corrcoef(x, y))"
      ]
    },
    {
      "cell_type": "code",
      "execution_count": 36,
      "metadata": {
        "colab": {
          "base_uri": "https://localhost:8080/"
        },
        "id": "100a5d45",
        "outputId": "dc5951e7-19ec-49f4-a1bb-9a0bc598af24"
      },
      "outputs": [
        {
          "name": "stdout",
          "output_type": "stream",
          "text": [
            "[[19 22]\n",
            " [43 50]]\n"
          ]
        }
      ],
      "source": [
        "# 64. Create two matrices and perform matrix multiplication using NumPy's `dot` function.\n",
        "\n",
        "#code >\n",
        "a = np.array([[1, 2], [3, 4]])\n",
        "b = np.array([[5, 6], [7, 8]])\n",
        "print(np.dot(a, b))"
      ]
    },
    {
      "cell_type": "code",
      "execution_count": 37,
      "metadata": {
        "colab": {
          "base_uri": "https://localhost:8080/"
        },
        "id": "e8b4becc",
        "outputId": "1246a037-026b-47ca-ea80-e9c4e50de6d2"
      },
      "outputs": [
        {
          "name": "stdout",
          "output_type": "stream",
          "text": [
            "10th Percentile: 89.10000000000001\n",
            "25th Percentile (Q1): 224.25\n",
            "50th Percentile (Median): 518.5\n",
            "75th Percentile (Q3): 821.0\n",
            "90th Percentile: 945.0\n"
          ]
        }
      ],
      "source": [
        "# 65. Create an array of 50 integers between 10 and 1000. Calculate the 10th, 50th (median), and 90th percentiles along with the first and third quartiles.\n",
        "\n",
        "#code >\n",
        "arr = np.random.randint(10, 1001, 50)\n",
        "print('10th Percentile:', np.percentile(arr, 10))\n",
        "print('25th Percentile (Q1):', np.percentile(arr, 25))\n",
        "print('50th Percentile (Median):', np.percentile(arr, 50))\n",
        "print('75th Percentile (Q3):', np.percentile(arr, 75))\n",
        "print('90th Percentile:', np.percentile(arr, 90))"
      ]
    },
    {
      "cell_type": "code",
      "execution_count": 38,
      "metadata": {
        "colab": {
          "base_uri": "https://localhost:8080/"
        },
        "id": "04bc01a4",
        "outputId": "b20e07e5-5bab-4f85-b92f-5fa1f2818b38"
      },
      "outputs": [
        {
          "name": "stdout",
          "output_type": "stream",
          "text": [
            "Index of 30: 2\n"
          ]
        }
      ],
      "source": [
        "# 66. Create a NumPy array of integers and find the index of a specific element.\n",
        "\n",
        "#code >\n",
        "arr = np.array([10, 20, 30, 40, 50])\n",
        "index = np.where(arr == 30)[0][0]\n",
        "print('Index of 30:', index)"
      ]
    },
    {
      "cell_type": "code",
      "execution_count": 39,
      "metadata": {
        "colab": {
          "base_uri": "https://localhost:8080/"
        },
        "id": "cad5cd4f",
        "outputId": "3d4d795e-dd80-475f-8dde-b276dadc8947"
      },
      "outputs": [
        {
          "name": "stdout",
          "output_type": "stream",
          "text": [
            "Sorted array: [29 31 32 34 41 59 67 71 83 86]\n"
          ]
        }
      ],
      "source": [
        "# 67. Generate a random NumPy array and sort it in ascending order.\n",
        "\n",
        "#code >\n",
        "arr = np.random.randint(1, 100, 10)\n",
        "print('Sorted array:', np.sort(arr))"
      ]
    },
    {
      "cell_type": "code",
      "execution_count": 40,
      "metadata": {
        "colab": {
          "base_uri": "https://localhost:8080/"
        },
        "id": "48d0c4e1",
        "outputId": "253bd4ea-27e6-4a13-c782-d0ed6fb80a43"
      },
      "outputs": [
        {
          "name": "stdout",
          "output_type": "stream",
          "text": [
            "[25 42 30]\n"
          ]
        }
      ],
      "source": [
        "# 68. Filter elements >20 in the given NumPy array.\n",
        "# arr = np.array([12, 25, 6, 42, 8, 30])\n",
        "\n",
        "#code >\n",
        "arr = np.array([12, 25, 6, 42, 8, 30])\n",
        "print(arr[arr > 20])"
      ]
    },
    {
      "cell_type": "code",
      "execution_count": 41,
      "metadata": {
        "colab": {
          "base_uri": "https://localhost:8080/"
        },
        "id": "4ea1991f",
        "outputId": "b8c4f0ba-cfcb-4198-84b9-d84fef28d576"
      },
      "outputs": [
        {
          "name": "stdout",
          "output_type": "stream",
          "text": [
            "[12 15]\n"
          ]
        }
      ],
      "source": [
        "# 69. Filter elements which are divisible by 3 from a given NumPy array.\n",
        "# arr = np.array([1, 5, 8, 12, 15])\n",
        "\n",
        "#code >\n",
        "arr = np.array([1, 5, 8, 12, 15])\n",
        "print(arr[arr % 3 == 0])"
      ]
    },
    {
      "cell_type": "code",
      "execution_count": 42,
      "metadata": {
        "colab": {
          "base_uri": "https://localhost:8080/"
        },
        "id": "b8141b6e",
        "outputId": "a9245804-cb34-4eab-9f16-cccbf12987ac"
      },
      "outputs": [
        {
          "name": "stdout",
          "output_type": "stream",
          "text": [
            "[20 30 40]\n"
          ]
        }
      ],
      "source": [
        "# 70. Filter elements which are ≥ 20 and ≤ 40 from a given NumPy array.\n",
        "# arr = np.array([10, 20, 30, 40, 50])\n",
        "\n",
        "#code >\n",
        "arr = np.array([10, 20, 30, 40, 50])\n",
        "print(arr[(arr >= 20) & (arr <= 40)])"
      ]
    },
    {
      "cell_type": "code",
      "execution_count": 43,
      "metadata": {
        "colab": {
          "base_uri": "https://localhost:8080/"
        },
        "id": "b0c946a7",
        "outputId": "e21ea2af-463e-4b55-f5d7-ac86a270ec44"
      },
      "outputs": [
        {
          "name": "stdout",
          "output_type": "stream",
          "text": [
            "Byte order: =\n"
          ]
        }
      ],
      "source": [
        "# 71. For the given NumPy array, check its byte order using the `dtype` attribute byteorder.\n",
        "# arr = np.array([1, 2, 3])\n",
        "\n",
        "#code >\n",
        "arr = np.array([1, 2, 3])\n",
        "print('Byte order:', arr.dtype.byteorder)"
      ]
    },
    {
      "cell_type": "code",
      "execution_count": 44,
      "metadata": {
        "colab": {
          "base_uri": "https://localhost:8080/"
        },
        "id": "3bae5db5",
        "outputId": "6ad8e418-bce2-4981-b8e5-ab67f0c7cda1"
      },
      "outputs": [
        {
          "name": "stdout",
          "output_type": "stream",
          "text": [
            "[16777216 33554432 50331648]\n"
          ]
        }
      ],
      "source": [
        "# 72. For the given NumPy array, perform byte swapping in place using `byteswap()`.\n",
        "# arr = np.array([1, 2, 3], dtype=np.int32)\n",
        "\n",
        "#code >\n",
        "import numpy as np\n",
        "arr = np.array([1, 2, 3], dtype=np.int32)\n",
        "arr.byteswap(True)\n",
        "print(arr)"
      ]
    },
    {
      "cell_type": "code",
      "execution_count": null,
      "metadata": {
        "colab": {
          "base_uri": "https://localhost:8080/"
        },
        "id": "83bdf145",
        "outputId": "5c7555e1-cb75-4ef3-d8de-5f92efa38000"
      },
      "outputs": [
        {
          "name": "stdout",
          "output_type": "stream",
          "text": [
            "Original array: [1 2 3]\n",
            "Swapped array: [16777216 33554432 50331648]\n",
            "Original dtype: int32\n",
            "Swapped dtype: >i4\n",
            "[16777216 33554432 50331648]\n"
          ]
        }
      ],
      "source": [
        "# 73. For the given NumPy array, swap its byte order without modifying the original array using `newbyteorder()`.\n",
        "# arr = np.array([1, 2, 3], dtype=np.int32)\n",
        "\n",
        "#code >\n",
        "import numpy as np\n",
        "arr = np.array([1, 2, 3], dtype=np.int32)\n",
        "swapped = arr.view(arr.dtype.newbyteorder())\n",
        "print('Original array:', arr)\n",
        "print('Swapped array:', swapped)\n",
        "print('Original dtype:', arr.dtype)\n",
        "print('Swapped dtype:', swapped.dtype)\n",
        "\n",
        "#example >\n",
        "print(swapped)"
      ]
    },
    {
      "cell_type": "code",
      "execution_count": null,
      "metadata": {
        "colab": {
          "base_uri": "https://localhost:8080/"
        },
        "id": "c1766ded",
        "outputId": "d08da162-9d2d-4d5d-848d-89a8832ab5b6"
      },
      "outputs": [
        {
          "name": "stdout",
          "output_type": "stream",
          "text": [
            "[16777216 33554432 50331648]\n"
          ]
        }
      ],
      "source": [
        "# 74. For the given NumPy array, swap its byte order conditionally based on system endianness using `newbyteorder()`.\n",
        "# arr = np.array([1, 2, 3], dtype=np.int32)\n",
        "\n",
        "#code >\n",
        "import numpy as np\n",
        "arr = np.array([1, 2, 3], dtype=np.int32)\n",
        "\n",
        "if arr.dtype.byteorder in ('=', '<'):\n",
        "    swapped = arr.view(arr.dtype.newbyteorder('>'))\n",
        "else:\n",
        "    swapped = arr.view(arr.dtype.newbyteorder('<'))\n",
        "\n",
        "#example >\n",
        "print(swapped)"
      ]
    },
    {
      "cell_type": "code",
      "execution_count": null,
      "metadata": {
        "colab": {
          "base_uri": "https://localhost:8080/"
        },
        "id": "ef0e2c7d",
        "outputId": "a0c5b771-9f75-4677-c9ef-c4ebc9625e43"
      },
      "outputs": [
        {
          "name": "stdout",
          "output_type": "stream",
          "text": [
            "False\n"
          ]
        }
      ],
      "source": [
        "# 75. For the given NumPy array, check if byte swapping is necessary for the current system using `dtype` attribute `byteorder`.\n",
        "# arr = np.array([1, 2, 3], dtype=np.int32)\n",
        "\n",
        "#code >\n",
        "arr = np.array([1, 2, 3], dtype=np.int32)\n",
        "needs_swap = arr.dtype.byteorder not in ('=', '|')\n",
        "print(needs_swap)"
      ]
    },
    {
      "cell_type": "code",
      "execution_count": null,
      "metadata": {
        "colab": {
          "base_uri": "https://localhost:8080/"
        },
        "id": "03fc691d",
        "outputId": "af31bacf-c80d-4e40-f166-7d57bb979461"
      },
      "outputs": [
        {
          "name": "stdout",
          "output_type": "stream",
          "text": [
            "arr1: [ 1  2  3  4  5  6  7  8  9 10]\n",
            "copy_arr: [99  2  3  4  5  6  7  8  9 10]\n"
          ]
        }
      ],
      "source": [
        "# 76. Create a NumPy array `arr1` with values from 1 to 10. Create a copy of `arr1` named `copy_arr` and modify an element in `copy_arr`. Check if modifying `copy_arr` affects `arr1`.\n",
        "\n",
        "#code >\n",
        "arr1 = np.arange(1, 11)\n",
        "copy_arr = arr1.copy()\n",
        "copy_arr[0] = 99\n",
        "print(\"arr1:\", arr1)\n",
        "print(\"copy_arr:\", copy_arr)"
      ]
    },
    {
      "cell_type": "code",
      "execution_count": null,
      "metadata": {
        "colab": {
          "base_uri": "https://localhost:8080/"
        },
        "id": "626767ef",
        "outputId": "96fb6793-081f-414f-b3ca-4ef97ac57f06"
      },
      "outputs": [
        {
          "name": "stdout",
          "output_type": "stream",
          "text": [
            "matrix:\n",
            " [[100   6   1]\n",
            " [  0   6   5]\n",
            " [  5   0   7]]\n",
            "view_slice:\n",
            " [[100   6]\n",
            " [  0   6]]\n"
          ]
        }
      ],
      "source": [
        "# 77. Create a 2D NumPy array `matrix` of shape (3, 3) with random integers. Extract a slice `view_slice` from the matrix. Modify an element in `view_slice` and observe if it changes the original `matrix`.\n",
        "\n",
        "#code >\n",
        "matrix = np.random.randint(0, 10, (3, 3))\n",
        "view_slice = matrix[:2, :2]\n",
        "view_slice[0, 0] = 100\n",
        "print(\"matrix:\\n\", matrix)\n",
        "print(\"view_slice:\\n\", view_slice)"
      ]
    },
    {
      "cell_type": "code",
      "execution_count": null,
      "metadata": {
        "colab": {
          "base_uri": "https://localhost:8080/"
        },
        "id": "d29274bc",
        "outputId": "c3a8b6ea-453b-4f9d-bc51-61a8f63fc29f"
      },
      "outputs": [
        {
          "name": "stdout",
          "output_type": "stream",
          "text": [
            "array_a:\n",
            " [[ 6  7  8]\n",
            " [ 9 10 11]\n",
            " [ 7  8  9]\n",
            " [10 11 12]]\n",
            "view_b:\n",
            " [[ 6  7  8]\n",
            " [ 9 10 11]]\n"
          ]
        }
      ],
      "source": [
        "# 78. Create a NumPy array `array_a` of shape (4, 3) with sequential integers from 1 to 12. Extract a slice `view_b` from `array_a` and broadcast the addition of 5 to view_b. Check if it alters the original `array_a`.\n",
        "\n",
        "#code >\n",
        "array_a = np.arange(1, 13).reshape(4, 3)\n",
        "view_b = array_a[:2, :]\n",
        "view_b += 5\n",
        "print(\"array_a:\\n\", array_a)\n",
        "print(\"view_b:\\n\", view_b)"
      ]
    },
    {
      "cell_type": "code",
      "execution_count": null,
      "metadata": {
        "colab": {
          "base_uri": "https://localhost:8080/"
        },
        "id": "9ef12ff8",
        "outputId": "23959c2b-f8bf-479e-88bd-ee3a3ac38303"
      },
      "outputs": [
        {
          "name": "stdout",
          "output_type": "stream",
          "text": [
            "orig_array:\n",
            " [[999   2   3   4]\n",
            " [  5   6   7   8]]\n",
            "reshaped_view:\n",
            " [[999   2]\n",
            " [  3   4]\n",
            " [  5   6]\n",
            " [  7   8]]\n"
          ]
        }
      ],
      "source": [
        "# 79. Create a NumPy array `orig_array` of shape (2, 4) with values from 1 to 8. Create a reshaped view `reshaped_view` of shape (4, 2) from orig_array. Modify an element in `reshaped_view` and check if it reflects changes in the original `orig_array`.\n",
        "\n",
        "#code >\n",
        "orig_array = np.arange(1, 9).reshape(2, 4)\n",
        "reshaped_view = orig_array.reshape(4, 2)\n",
        "reshaped_view[0, 0] = 999\n",
        "print(\"orig_array:\\n\", orig_array)\n",
        "print(\"reshaped_view:\\n\", reshaped_view)"
      ]
    },
    {
      "cell_type": "code",
      "execution_count": null,
      "metadata": {
        "colab": {
          "base_uri": "https://localhost:8080/"
        },
        "id": "08bb9344",
        "outputId": "9e2a7b42-5afc-4a2b-89c9-0845913e3f4c"
      },
      "outputs": [
        {
          "name": "stdout",
          "output_type": "stream",
          "text": [
            "data:\n",
            " [[9 7 0 2]\n",
            " [9 2 0 7]\n",
            " [5 0 0 8]]\n",
            "data_copy:\n",
            " [999   7   9   7   8]\n"
          ]
        }
      ],
      "source": [
        "# 80. Create a NumPy array `data` of shape (3, 4) with random integers. Extract a copy `data_copy` of elements greater than 5. Modify an element in `data_copy` and verify if it affects the original `data`.\n",
        "\n",
        "#code >\n",
        "data = np.random.randint(0, 10, (3, 4))\n",
        "data_copy = data[data > 5].copy()\n",
        "data_copy[0] = 999\n",
        "print(\"data:\\n\", data)\n",
        "print(\"data_copy:\\n\", data_copy)"
      ]
    },
    {
      "cell_type": "code",
      "execution_count": null,
      "metadata": {
        "colab": {
          "base_uri": "https://localhost:8080/"
        },
        "id": "2ea4a368",
        "outputId": "10547fa1-1264-44a0-e313-be8a54faa526"
      },
      "outputs": [
        {
          "name": "stdout",
          "output_type": "stream",
          "text": [
            "Addition:\n",
            " [[ 6  8]\n",
            " [10 12]]\n",
            "Subtraction:\n",
            " [[-4 -4]\n",
            " [-4 -4]]\n"
          ]
        }
      ],
      "source": [
        "# 81. Create two matrices A and B of identical shape containing integers and perform addition and subtraction operations between them.\n",
        "\n",
        "#code >\n",
        "A = np.array([[1, 2], [3, 4]])\n",
        "B = np.array([[5, 6], [7, 8]])\n",
        "add_result = A + B\n",
        "sub_result = A - B\n",
        "print(\"Addition:\\n\", add_result)\n",
        "print(\"Subtraction:\\n\", sub_result)"
      ]
    },
    {
      "cell_type": "code",
      "execution_count": null,
      "metadata": {
        "colab": {
          "base_uri": "https://localhost:8080/"
        },
        "id": "dca4a218",
        "outputId": "c23f3356-3514-4e07-8a5f-686e23eb6d28"
      },
      "outputs": [
        {
          "name": "stdout",
          "output_type": "stream",
          "text": [
            "Matrix Multiplication:\n",
            " [[ 29  32  35  38]\n",
            " [ 65  72  79  86]\n",
            " [101 112 123 134]]\n"
          ]
        }
      ],
      "source": [
        "# 82. Generate two matrices `C` (3x2) and `D` (2x4) and perform matrix multiplication.\n",
        "\n",
        "#code >\n",
        "C = np.array([[1, 2], [3, 4], [5, 6]])\n",
        "D = np.array([[7, 8, 9, 10], [11, 12, 13, 14]])\n",
        "result = np.matmul(C, D)\n",
        "print(\"Matrix Multiplication:\\n\", result)"
      ]
    },
    {
      "cell_type": "code",
      "execution_count": null,
      "metadata": {
        "colab": {
          "base_uri": "https://localhost:8080/"
        },
        "id": "ab12adf6",
        "outputId": "b81fe10c-fb00-4eda-9b68-827afa80aef4"
      },
      "outputs": [
        {
          "name": "stdout",
          "output_type": "stream",
          "text": [
            "E:\n",
            " [[1 2 3]\n",
            " [4 5 6]]\n",
            "Transpose:\n",
            " [[1 4]\n",
            " [2 5]\n",
            " [3 6]]\n"
          ]
        }
      ],
      "source": [
        "# 83. Create a matrix `E` and find its transpose.\n",
        "\n",
        "#code >\n",
        "E = np.array([[1, 2, 3], [4, 5, 6]])\n",
        "transpose_E = E.T\n",
        "print(\"E:\\n\", E)\n",
        "print(\"Transpose:\\n\", transpose_E)"
      ]
    },
    {
      "cell_type": "code",
      "execution_count": null,
      "metadata": {
        "colab": {
          "base_uri": "https://localhost:8080/"
        },
        "id": "ccdf57ee",
        "outputId": "0c903b16-1278-48a2-93ef-640e97242ac2"
      },
      "outputs": [
        {
          "name": "stdout",
          "output_type": "stream",
          "text": [
            "Determinant: 8.000000000000002\n"
          ]
        }
      ],
      "source": [
        "# 84. Generate a square matrix `F` and compute its determinant.\n",
        "\n",
        "#code >\n",
        "F = np.array([[6, 1], [4, 2]])\n",
        "det = np.linalg.det(F)\n",
        "print(\"Determinant:\", det)"
      ]
    },
    {
      "cell_type": "code",
      "execution_count": null,
      "metadata": {
        "colab": {
          "base_uri": "https://localhost:8080/"
        },
        "id": "73e05338",
        "outputId": "658633a1-cf0e-4824-e0e0-5ee8cba01c3e"
      },
      "outputs": [
        {
          "name": "stdout",
          "output_type": "stream",
          "text": [
            "Inverse:\n",
            " [[ 0.6 -0.7]\n",
            " [-0.2  0.4]]\n"
          ]
        }
      ],
      "source": [
        "# 85. Create a square matrix `G` and find its inverse.\n",
        "\n",
        "#code >\n",
        "G = np.array([[4, 7], [2, 6]])\n",
        "inv_G = np.linalg.inv(G)\n",
        "print(\"Inverse:\\n\", inv_G)"
      ]
    },
    {
      "cell_type": "code",
      "execution_count": null,
      "metadata": {
        "id": "zytRWeeoVVhW"
      },
      "outputs": [],
      "source": []
    }
  ],
  "metadata": {
    "colab": {
      "provenance": []
    },
    "kernelspec": {
      "display_name": "Python 3",
      "name": "python3"
    },
    "language_info": {
      "name": "python"
    }
  },
  "nbformat": 4,
  "nbformat_minor": 0
}
